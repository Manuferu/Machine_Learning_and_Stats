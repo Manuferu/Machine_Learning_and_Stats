{
 "cells": [
  {
   "cell_type": "markdown",
   "metadata": {},
   "source": [
    "# Overview of scikit learn library"
   ]
  },
  {
   "cell_type": "markdown",
   "metadata": {},
   "source": [
    "***scikit-learn*** is a python compatible machine learning opensource library. It really has a very well documented [Tutorial](https://scikit-learn.org/stable/tutorial/index.html) where users have access to the entire documentation with examples. Even though there are multiple examples in the tutorials, in this notebook we will try to execute some examples and complement the official tutorial."
   ]
  },
  {
   "cell_type": "markdown",
   "metadata": {},
   "source": [
    "## Introduction to scikit-learn"
   ]
  },
  {
   "cell_type": "markdown",
   "metadata": {},
   "source": [
    "scikit-learn has build in datasets already in the library to start making some proofs and test the functionalities. In this case, it has been taken the wine recognition dataset [wine recognition dataset](https://archive.ics.uci.edu/ml/machine-learning-databases/wine) (Lichman, M. 2013)"
   ]
  },
  {
   "cell_type": "code",
   "execution_count": 1,
   "metadata": {},
   "outputs": [
    {
     "data": {
      "text/plain": [
       "array([[1.423e+01, 1.710e+00, 2.430e+00, ..., 1.040e+00, 3.920e+00,\n",
       "        1.065e+03],\n",
       "       [1.320e+01, 1.780e+00, 2.140e+00, ..., 1.050e+00, 3.400e+00,\n",
       "        1.050e+03],\n",
       "       [1.316e+01, 2.360e+00, 2.670e+00, ..., 1.030e+00, 3.170e+00,\n",
       "        1.185e+03],\n",
       "       ...,\n",
       "       [1.327e+01, 4.280e+00, 2.260e+00, ..., 5.900e-01, 1.560e+00,\n",
       "        8.350e+02],\n",
       "       [1.317e+01, 2.590e+00, 2.370e+00, ..., 6.000e-01, 1.620e+00,\n",
       "        8.400e+02],\n",
       "       [1.413e+01, 4.100e+00, 2.740e+00, ..., 6.100e-01, 1.600e+00,\n",
       "        5.600e+02]])"
      ]
     },
     "execution_count": 1,
     "metadata": {},
     "output_type": "execute_result"
    }
   ],
   "source": [
    "from sklearn import datasets\n",
    "wine=datasets.load_wine()\n",
    "wine.data"
   ]
  },
  {
   "cell_type": "markdown",
   "metadata": {},
   "source": [
    "As we cna see, data is stored as array format, each asset in the array has 13 numeric values. Those values corresponds following attributes (available in [Sklearn library documentation](https://scikit-learn.org/stable/datasets/toy_dataset.html#wine-recognition-dataset)):\n",
    "\n",
    "- Alcohol\n",
    "- Malic acid\n",
    "- Ash\n",
    "- alcalinity of ash\n",
    "- Magnesium\n",
    "- total phenols\n",
    "- Flavanoids\n",
    "- Nonflavanoid phenols\n",
    "- Proanthocyanins\n",
    "- Color intensity\n",
    "- Hue\n",
    "- OD280/OD315 of diluted wines\n",
    "- Proline"
   ]
  },
  {
   "cell_type": "markdown",
   "metadata": {},
   "source": [
    "***wine.data*** gives access to the features that can be used to classify the wines samples"
   ]
  },
  {
   "cell_type": "code",
   "execution_count": 2,
   "metadata": {},
   "outputs": [
    {
     "data": {
      "text/plain": [
       "array([0, 0, 0, 0, 0, 0, 0, 0, 0, 0, 0, 0, 0, 0, 0, 0, 0, 0, 0, 0, 0, 0,\n",
       "       0, 0, 0, 0, 0, 0, 0, 0, 0, 0, 0, 0, 0, 0, 0, 0, 0, 0, 0, 0, 0, 0,\n",
       "       0, 0, 0, 0, 0, 0, 0, 0, 0, 0, 0, 0, 0, 0, 0, 1, 1, 1, 1, 1, 1, 1,\n",
       "       1, 1, 1, 1, 1, 1, 1, 1, 1, 1, 1, 1, 1, 1, 1, 1, 1, 1, 1, 1, 1, 1,\n",
       "       1, 1, 1, 1, 1, 1, 1, 1, 1, 1, 1, 1, 1, 1, 1, 1, 1, 1, 1, 1, 1, 1,\n",
       "       1, 1, 1, 1, 1, 1, 1, 1, 1, 1, 1, 1, 1, 1, 1, 1, 1, 1, 1, 1, 2, 2,\n",
       "       2, 2, 2, 2, 2, 2, 2, 2, 2, 2, 2, 2, 2, 2, 2, 2, 2, 2, 2, 2, 2, 2,\n",
       "       2, 2, 2, 2, 2, 2, 2, 2, 2, 2, 2, 2, 2, 2, 2, 2, 2, 2, 2, 2, 2, 2,\n",
       "       2, 2])"
      ]
     },
     "execution_count": 2,
     "metadata": {},
     "output_type": "execute_result"
    }
   ],
   "source": [
    "wine.target"
   ]
  },
  {
   "cell_type": "markdown",
   "metadata": {},
   "source": [
    "meanwhile ***wine.target*** gives the true corresponding to the class each wine has depending on its composition in the attributes. In case we want to know the name of each type class we can use ***wine.target_names*** to do so."
   ]
  },
  {
   "cell_type": "code",
   "execution_count": 3,
   "metadata": {},
   "outputs": [
    {
     "data": {
      "text/plain": [
       "array(['class_0', 'class_1', 'class_2'], dtype='<U7')"
      ]
     },
     "execution_count": 3,
     "metadata": {},
     "output_type": "execute_result"
    }
   ],
   "source": [
    "wine.target_names"
   ]
  },
  {
   "cell_type": "markdown",
   "metadata": {},
   "source": [
    "### Learning an predicting"
   ]
  },
  {
   "cell_type": "markdown",
   "metadata": {},
   "source": [
    "In the case of wine dataset, the task is to predict, given a wine with measurements in each of the 13 parameters listed above, in which class will fall in. an estimator for classification in this case is support vector classification."
   ]
  },
  {
   "cell_type": "code",
   "execution_count": 12,
   "metadata": {},
   "outputs": [],
   "source": [
    "from sklearn import svm\n",
    "clf = svm.SVC(gamma = 0.001, C=100.)"
   ]
  },
  {
   "cell_type": "markdown",
   "metadata": {},
   "source": [
    "within the estimator, we can use the methods ***fit(X,y)*** and ***predict(T)***. As first instance, ***clf*** instance is first fitted to the model with the aim to learn from the model by passing the training set to the ***fit*** method. In this case, we have used the entire dataset but last value to train model."
   ]
  },
  {
   "cell_type": "code",
   "execution_count": 13,
   "metadata": {},
   "outputs": [
    {
     "data": {
      "text/plain": [
       "SVC(C=100.0, gamma=0.001)"
      ]
     },
     "execution_count": 13,
     "metadata": {},
     "output_type": "execute_result"
    }
   ],
   "source": [
    "clf.fit(wine.data[:-1],wine.target[:-1])"
   ]
  },
  {
   "cell_type": "markdown",
   "metadata": {},
   "source": [
    "We use the last value of the dataset to predict its value."
   ]
  },
  {
   "cell_type": "code",
   "execution_count": 14,
   "metadata": {},
   "outputs": [
    {
     "data": {
      "text/plain": [
       "array([2])"
      ]
     },
     "execution_count": 14,
     "metadata": {},
     "output_type": "execute_result"
    }
   ],
   "source": [
    "clf.predict(wine.data[-1:])"
   ]
  },
  {
   "cell_type": "markdown",
   "metadata": {},
   "source": [
    "if we just load the target value in the dataset for this exact position, we can see it has the same as the predicting one"
   ]
  },
  {
   "cell_type": "code",
   "execution_count": 5,
   "metadata": {},
   "outputs": [
    {
     "data": {
      "text/plain": [
       "array([2])"
      ]
     },
     "execution_count": 5,
     "metadata": {},
     "output_type": "execute_result"
    }
   ],
   "source": [
    "wine.target[-1:]"
   ]
  },
  {
   "cell_type": "markdown",
   "metadata": {},
   "source": [
    "### Predicting an output variable from high dimensional observations"
   ]
  },
  {
   "cell_type": "markdown",
   "metadata": {},
   "source": [
    "The ***wine dataset***  is a classification task where 3 different classes are identified *(class_0, class_1, class_2)* from 13 attributes listed above"
   ]
  },
  {
   "cell_type": "code",
   "execution_count": 6,
   "metadata": {},
   "outputs": [
    {
     "data": {
      "text/plain": [
       "array([0, 1, 2])"
      ]
     },
     "execution_count": 6,
     "metadata": {},
     "output_type": "execute_result"
    }
   ],
   "source": [
    "import numpy as np\n",
    "\n",
    "wine_X, wine_Y = datasets.load_wine(return_X_y=True)\n",
    "np.unique(wine_Y)\n"
   ]
  },
  {
   "cell_type": "markdown",
   "metadata": {},
   "source": [
    "Here we use K-Nearest neighbors classifier"
   ]
  },
  {
   "cell_type": "code",
   "execution_count": 7,
   "metadata": {},
   "outputs": [
    {
     "data": {
      "text/plain": [
       "array([0, 1, 1, 0, 1, 1, 0, 2, 1, 1, 2, 1, 0, 2, 2, 1, 0, 0, 1, 0, 1, 0,\n",
       "       2, 1, 1, 1, 1, 1, 2, 2, 0, 0, 1, 0, 0, 0, 1, 1, 1, 2, 2, 0, 1, 2,\n",
       "       1, 2, 1, 0, 2, 0, 2, 1, 0, 2, 0, 1, 2, 2, 1, 2, 1, 0, 2, 2, 1, 1,\n",
       "       1, 2, 0, 1, 0, 2, 1, 0, 1, 0, 1, 2, 2, 1, 1, 2, 2, 0, 2, 2, 1, 1,\n",
       "       1, 0, 0, 0, 1, 0, 2, 0, 2, 0, 0, 0, 0, 2, 1, 0, 2, 1, 0, 2, 1, 2,\n",
       "       2, 0, 2, 1, 0, 0, 1, 1, 0, 0, 2, 1, 0, 0, 0, 2, 1, 0, 2, 2, 0, 1,\n",
       "       2, 2, 0, 0, 2, 0, 2, 1, 0, 0, 1, 0, 2, 1, 0, 0, 2, 2, 2, 0, 1, 1,\n",
       "       1, 1, 2, 2, 1, 2, 2, 2, 1, 2, 0, 0, 2, 1])"
      ]
     },
     "execution_count": 7,
     "metadata": {},
     "output_type": "execute_result"
    }
   ],
   "source": [
    "# Split wine data in train and test data\n",
    "np.random.seed(0) #random permutation, to split the data randomly\n",
    "indices = np.random.permutation(len(wine_X))\n",
    "wine_X_train = wine_X[indices[:-10]]\n",
    "wine_Y_train = wine_Y[indices[:-10]]\n",
    "wine_X_test = wine_X[indices[:-10]]\n",
    "wine_Y_test = wine_Y[indices[:-10]]\n",
    "# Create and fit nearest-neighbor classifier\n",
    "from sklearn.neighbors import KNeighborsClassifier\n",
    "\n",
    "knn = KNeighborsClassifier()\n",
    "knn.fit(wine_X_train, wine_Y_train)\n",
    "knn.predict(wine_X_test)"
   ]
  },
  {
   "cell_type": "code",
   "execution_count": 8,
   "metadata": {
    "scrolled": true
   },
   "outputs": [
    {
     "data": {
      "text/plain": [
       "array([0, 2, 1, 0, 1, 1, 0, 2, 1, 1, 2, 2, 0, 1, 2, 1, 0, 0, 1, 0, 1, 0,\n",
       "       0, 1, 1, 1, 1, 1, 1, 2, 0, 0, 1, 0, 0, 0, 2, 1, 1, 2, 0, 0, 1, 1,\n",
       "       1, 0, 2, 1, 2, 0, 2, 2, 0, 2, 0, 1, 2, 2, 1, 2, 2, 0, 1, 2, 1, 1,\n",
       "       2, 1, 0, 1, 1, 1, 0, 0, 1, 1, 2, 2, 1, 1, 1, 2, 2, 0, 2, 1, 1, 1,\n",
       "       1, 1, 0, 0, 1, 0, 2, 0, 2, 0, 0, 1, 0, 1, 1, 0, 2, 1, 0, 1, 1, 1,\n",
       "       2, 0, 2, 2, 0, 0, 1, 2, 0, 0, 1, 1, 0, 0, 0, 2, 1, 0, 1, 2, 0, 1,\n",
       "       2, 2, 0, 0, 2, 0, 2, 1, 0, 0, 1, 0, 2, 1, 2, 0, 2, 2, 2, 0, 1, 1,\n",
       "       1, 1, 2, 2, 1, 1, 0, 1, 2, 2, 0, 0, 2, 1])"
      ]
     },
     "execution_count": 8,
     "metadata": {},
     "output_type": "execute_result"
    }
   ],
   "source": [
    "wine_Y_test"
   ]
  },
  {
   "cell_type": "markdown",
   "metadata": {},
   "source": [
    "# Demonstration of three interesting scikit-learn algorithms"
   ]
  },
  {
   "cell_type": "markdown",
   "metadata": {},
   "source": [
    "This section aims to demonstrate three different scikit-learn algorithms in order to compare different methods."
   ]
  },
  {
   "cell_type": "markdown",
   "metadata": {},
   "source": [
    "To perform this task I have selected an interesting dataset from [**Forest Observatory Systems**](https://forest-observation-system.net) to measure the biomass. \n",
    "\n",
    "The Biomass dataset is an excel (.xlsx) package containing above-ground biomass estimation of above 260 forest plots divided in 1645 entries and scattered around the world. Majority of the plots have a size of 50x50 m. \n",
    "\n",
    "is an international cooperation aiming to establish an in-situ forest biomass database in order to support Earth Observation with reliable, up to date, representative and comparable data for validation (Schepaschenko, D. et al. 2019)."
   ]
  },
  {
   "cell_type": "markdown",
   "metadata": {},
   "source": [
    "## Quick description of FOS Biomass dataset"
   ]
  },
  {
   "cell_type": "code",
   "execution_count": 2,
   "metadata": {
    "scrolled": true
   },
   "outputs": [
    {
     "data": {
      "text/html": [
       "<div>\n",
       "<style scoped>\n",
       "    .dataframe tbody tr th:only-of-type {\n",
       "        vertical-align: middle;\n",
       "    }\n",
       "\n",
       "    .dataframe tbody tr th {\n",
       "        vertical-align: top;\n",
       "    }\n",
       "\n",
       "    .dataframe thead th {\n",
       "        text-align: right;\n",
       "    }\n",
       "</style>\n",
       "<table border=\"1\" class=\"dataframe\">\n",
       "  <thead>\n",
       "    <tr style=\"text-align: right;\">\n",
       "      <th></th>\n",
       "      <th>Plot_ID</th>\n",
       "      <th>Sub-plot_ID</th>\n",
       "      <th>CountryName</th>\n",
       "      <th>Network</th>\n",
       "      <th>Institution</th>\n",
       "      <th>Link</th>\n",
       "      <th>YearEstablished</th>\n",
       "      <th>YearCensus</th>\n",
       "      <th>PI team</th>\n",
       "      <th>Lat_cnt</th>\n",
       "      <th>...</th>\n",
       "      <th>AGB_Chave</th>\n",
       "      <th>AGB_ChaveCred_2.5</th>\n",
       "      <th>AGB_ChaveCred_97.5</th>\n",
       "      <th>Wood density</th>\n",
       "      <th>GSV</th>\n",
       "      <th>BA</th>\n",
       "      <th>Ndens</th>\n",
       "      <th>Reference</th>\n",
       "      <th>Other_Measurements</th>\n",
       "      <th>Biomass processing protocol</th>\n",
       "    </tr>\n",
       "  </thead>\n",
       "  <tbody>\n",
       "    <tr>\n",
       "      <th>0</th>\n",
       "      <td>ALF-01</td>\n",
       "      <td>0_0</td>\n",
       "      <td>Brazil</td>\n",
       "      <td>RAINFOR</td>\n",
       "      <td>Uni Leeds</td>\n",
       "      <td>http://www.rainfor.org</td>\n",
       "      <td>2002</td>\n",
       "      <td>2008</td>\n",
       "      <td>Beatriz Marimon (Universidade do Estado de Mat...</td>\n",
       "      <td>-9.60</td>\n",
       "      <td>...</td>\n",
       "      <td>370.4</td>\n",
       "      <td>307.1</td>\n",
       "      <td>469.3</td>\n",
       "      <td>0.638</td>\n",
       "      <td>NaN</td>\n",
       "      <td>NaN</td>\n",
       "      <td>NaN</td>\n",
       "      <td>Phillips O. L., Aragão L. E. O. C. , Lewis S. ...</td>\n",
       "      <td>NaN</td>\n",
       "      <td>RepFOS_14Feb17_ForestPlots.pdf</td>\n",
       "    </tr>\n",
       "    <tr>\n",
       "      <th>1</th>\n",
       "      <td>ALF-01</td>\n",
       "      <td>0_1</td>\n",
       "      <td>Brazil</td>\n",
       "      <td>RAINFOR</td>\n",
       "      <td>Uni Leeds</td>\n",
       "      <td>http://www.rainfor.org</td>\n",
       "      <td>2002</td>\n",
       "      <td>2008</td>\n",
       "      <td>Beatriz Marimon (Universidade do Estado de Mat...</td>\n",
       "      <td>-9.60</td>\n",
       "      <td>...</td>\n",
       "      <td>163.6</td>\n",
       "      <td>130.5</td>\n",
       "      <td>217.3</td>\n",
       "      <td>0.612</td>\n",
       "      <td>NaN</td>\n",
       "      <td>NaN</td>\n",
       "      <td>NaN</td>\n",
       "      <td>Phillips O. L., Aragão L. E. O. C. , Lewis S. ...</td>\n",
       "      <td>NaN</td>\n",
       "      <td>RepFOS_14Feb17_ForestPlots.pdf</td>\n",
       "    </tr>\n",
       "    <tr>\n",
       "      <th>2</th>\n",
       "      <td>ALF-01</td>\n",
       "      <td>0_2</td>\n",
       "      <td>Brazil</td>\n",
       "      <td>RAINFOR</td>\n",
       "      <td>Uni Leeds</td>\n",
       "      <td>http://www.rainfor.org</td>\n",
       "      <td>2002</td>\n",
       "      <td>2008</td>\n",
       "      <td>Beatriz Marimon (Universidade do Estado de Mat...</td>\n",
       "      <td>-9.60</td>\n",
       "      <td>...</td>\n",
       "      <td>220.4</td>\n",
       "      <td>188.1</td>\n",
       "      <td>257.8</td>\n",
       "      <td>0.646</td>\n",
       "      <td>NaN</td>\n",
       "      <td>NaN</td>\n",
       "      <td>NaN</td>\n",
       "      <td>Phillips O. L., Aragão L. E. O. C. , Lewis S. ...</td>\n",
       "      <td>NaN</td>\n",
       "      <td>RepFOS_14Feb17_ForestPlots.pdf</td>\n",
       "    </tr>\n",
       "    <tr>\n",
       "      <th>3</th>\n",
       "      <td>ALF-01</td>\n",
       "      <td>0_3</td>\n",
       "      <td>Brazil</td>\n",
       "      <td>RAINFOR</td>\n",
       "      <td>Uni Leeds</td>\n",
       "      <td>http://www.rainfor.org</td>\n",
       "      <td>2002</td>\n",
       "      <td>2008</td>\n",
       "      <td>Beatriz Marimon (Universidade do Estado de Mat...</td>\n",
       "      <td>-9.59</td>\n",
       "      <td>...</td>\n",
       "      <td>179.6</td>\n",
       "      <td>155.0</td>\n",
       "      <td>209.2</td>\n",
       "      <td>0.645</td>\n",
       "      <td>NaN</td>\n",
       "      <td>NaN</td>\n",
       "      <td>NaN</td>\n",
       "      <td>Phillips O. L., Aragão L. E. O. C. , Lewis S. ...</td>\n",
       "      <td>NaN</td>\n",
       "      <td>RepFOS_14Feb17_ForestPlots.pdf</td>\n",
       "    </tr>\n",
       "    <tr>\n",
       "      <th>4</th>\n",
       "      <td>ALP-01</td>\n",
       "      <td>0_0</td>\n",
       "      <td>Peru</td>\n",
       "      <td>RAINFOR</td>\n",
       "      <td>Uni Leeds</td>\n",
       "      <td>http://www.rainfor.org</td>\n",
       "      <td>1990</td>\n",
       "      <td>2005</td>\n",
       "      <td>Rodolfo Vasquez Martinez (Jardín Botánico de M...</td>\n",
       "      <td>-3.95</td>\n",
       "      <td>...</td>\n",
       "      <td>260.8</td>\n",
       "      <td>218.3</td>\n",
       "      <td>315.4</td>\n",
       "      <td>0.598</td>\n",
       "      <td>NaN</td>\n",
       "      <td>NaN</td>\n",
       "      <td>NaN</td>\n",
       "      <td>Phillips O. L., Aragão L. E. O. C. , Lewis S. ...</td>\n",
       "      <td>NaN</td>\n",
       "      <td>RepFOS_14Feb17_ForestPlots.pdf</td>\n",
       "    </tr>\n",
       "    <tr>\n",
       "      <th>...</th>\n",
       "      <td>...</td>\n",
       "      <td>...</td>\n",
       "      <td>...</td>\n",
       "      <td>...</td>\n",
       "      <td>...</td>\n",
       "      <td>...</td>\n",
       "      <td>...</td>\n",
       "      <td>...</td>\n",
       "      <td>...</td>\n",
       "      <td>...</td>\n",
       "      <td>...</td>\n",
       "      <td>...</td>\n",
       "      <td>...</td>\n",
       "      <td>...</td>\n",
       "      <td>...</td>\n",
       "      <td>...</td>\n",
       "      <td>...</td>\n",
       "      <td>...</td>\n",
       "      <td>...</td>\n",
       "      <td>...</td>\n",
       "      <td>...</td>\n",
       "    </tr>\n",
       "    <tr>\n",
       "      <th>1640</th>\n",
       "      <td>UK-53</td>\n",
       "      <td>1</td>\n",
       "      <td>Ukraine</td>\n",
       "      <td>IIASA</td>\n",
       "      <td>NULESU</td>\n",
       "      <td>http://nubip.edu.ua/en/node/1665</td>\n",
       "      <td>1956</td>\n",
       "      <td>2015</td>\n",
       "      <td>P.I. Lakyda, O. Morozyuk, I.P. Lakyda</td>\n",
       "      <td>50.31</td>\n",
       "      <td>...</td>\n",
       "      <td>NaN</td>\n",
       "      <td>NaN</td>\n",
       "      <td>NaN</td>\n",
       "      <td>NaN</td>\n",
       "      <td>NaN</td>\n",
       "      <td>NaN</td>\n",
       "      <td>NaN</td>\n",
       "      <td>NaN</td>\n",
       "      <td>NaN</td>\n",
       "      <td>NaN</td>\n",
       "    </tr>\n",
       "    <tr>\n",
       "      <th>1641</th>\n",
       "      <td>UK-TPP-201601</td>\n",
       "      <td>1</td>\n",
       "      <td>Ukraine</td>\n",
       "      <td>IIASA</td>\n",
       "      <td>NULESU</td>\n",
       "      <td>https://nubip.edu.ua/</td>\n",
       "      <td>2016</td>\n",
       "      <td>2016</td>\n",
       "      <td>P.Lakyda, V.Radchenko, A.Bilous, R.Matyashuk</td>\n",
       "      <td>50.34</td>\n",
       "      <td>...</td>\n",
       "      <td>NaN</td>\n",
       "      <td>NaN</td>\n",
       "      <td>NaN</td>\n",
       "      <td>NaN</td>\n",
       "      <td>336.0</td>\n",
       "      <td>29.76</td>\n",
       "      <td>520.0</td>\n",
       "      <td>NaN</td>\n",
       "      <td>NaN</td>\n",
       "      <td>NaN</td>\n",
       "    </tr>\n",
       "    <tr>\n",
       "      <th>1642</th>\n",
       "      <td>UK-TPP-201602</td>\n",
       "      <td>1</td>\n",
       "      <td>Ukraine</td>\n",
       "      <td>IIASA</td>\n",
       "      <td>NULESU</td>\n",
       "      <td>https://nubip.edu.ua/</td>\n",
       "      <td>2016</td>\n",
       "      <td>2016</td>\n",
       "      <td>P.Lakyda, V.Radchenko, A.Bilous, R.Matyashuk</td>\n",
       "      <td>50.34</td>\n",
       "      <td>...</td>\n",
       "      <td>NaN</td>\n",
       "      <td>NaN</td>\n",
       "      <td>NaN</td>\n",
       "      <td>NaN</td>\n",
       "      <td>484.0</td>\n",
       "      <td>38.30</td>\n",
       "      <td>357.0</td>\n",
       "      <td>NaN</td>\n",
       "      <td>NaN</td>\n",
       "      <td>NaN</td>\n",
       "    </tr>\n",
       "    <tr>\n",
       "      <th>1643</th>\n",
       "      <td>UK-TPP-201703</td>\n",
       "      <td>1</td>\n",
       "      <td>Ukraine</td>\n",
       "      <td>IIASA</td>\n",
       "      <td>NULESU</td>\n",
       "      <td>https://nubip.edu.ua/</td>\n",
       "      <td>2017</td>\n",
       "      <td>2017</td>\n",
       "      <td>P.Lakyda, V.Radchenko, A.Bilous, R.Matyashuk, ...</td>\n",
       "      <td>50.34</td>\n",
       "      <td>...</td>\n",
       "      <td>NaN</td>\n",
       "      <td>NaN</td>\n",
       "      <td>NaN</td>\n",
       "      <td>NaN</td>\n",
       "      <td>304.0</td>\n",
       "      <td>34.25</td>\n",
       "      <td>487.0</td>\n",
       "      <td>NaN</td>\n",
       "      <td>NaN</td>\n",
       "      <td>NaN</td>\n",
       "    </tr>\n",
       "    <tr>\n",
       "      <th>1644</th>\n",
       "      <td>UK-TPP-201704</td>\n",
       "      <td>1</td>\n",
       "      <td>Ukraine</td>\n",
       "      <td>IIASA</td>\n",
       "      <td>NULESU</td>\n",
       "      <td>https://nubip.edu.ua/</td>\n",
       "      <td>2017</td>\n",
       "      <td>2017</td>\n",
       "      <td>P.Lakyda, V.Radchenko, A.Bilous, R.Matyashuk, ...</td>\n",
       "      <td>50.34</td>\n",
       "      <td>...</td>\n",
       "      <td>NaN</td>\n",
       "      <td>NaN</td>\n",
       "      <td>NaN</td>\n",
       "      <td>NaN</td>\n",
       "      <td>263.0</td>\n",
       "      <td>27.86</td>\n",
       "      <td>784.0</td>\n",
       "      <td>NaN</td>\n",
       "      <td>NaN</td>\n",
       "      <td>NaN</td>\n",
       "    </tr>\n",
       "  </tbody>\n",
       "</table>\n",
       "<p>1645 rows × 39 columns</p>\n",
       "</div>"
      ],
      "text/plain": [
       "            Plot_ID Sub-plot_ID CountryName  Network Institution  \\\n",
       "0            ALF-01         0_0      Brazil  RAINFOR   Uni Leeds   \n",
       "1            ALF-01         0_1      Brazil  RAINFOR   Uni Leeds   \n",
       "2            ALF-01         0_2      Brazil  RAINFOR   Uni Leeds   \n",
       "3            ALF-01         0_3      Brazil  RAINFOR   Uni Leeds   \n",
       "4            ALP-01         0_0        Peru  RAINFOR   Uni Leeds   \n",
       "...             ...         ...         ...      ...         ...   \n",
       "1640          UK-53           1     Ukraine    IIASA      NULESU   \n",
       "1641  UK-TPP-201601           1     Ukraine    IIASA      NULESU   \n",
       "1642  UK-TPP-201602           1     Ukraine    IIASA      NULESU   \n",
       "1643  UK-TPP-201703           1     Ukraine    IIASA      NULESU   \n",
       "1644  UK-TPP-201704           1     Ukraine    IIASA      NULESU   \n",
       "\n",
       "                                  Link  YearEstablished  YearCensus  \\\n",
       "0               http://www.rainfor.org             2002        2008   \n",
       "1               http://www.rainfor.org             2002        2008   \n",
       "2               http://www.rainfor.org             2002        2008   \n",
       "3               http://www.rainfor.org             2002        2008   \n",
       "4               http://www.rainfor.org             1990        2005   \n",
       "...                                ...              ...         ...   \n",
       "1640  http://nubip.edu.ua/en/node/1665             1956        2015   \n",
       "1641             https://nubip.edu.ua/             2016        2016   \n",
       "1642             https://nubip.edu.ua/             2016        2016   \n",
       "1643             https://nubip.edu.ua/             2017        2017   \n",
       "1644             https://nubip.edu.ua/             2017        2017   \n",
       "\n",
       "                                                PI team  Lat_cnt  ...  \\\n",
       "0     Beatriz Marimon (Universidade do Estado de Mat...    -9.60  ...   \n",
       "1     Beatriz Marimon (Universidade do Estado de Mat...    -9.60  ...   \n",
       "2     Beatriz Marimon (Universidade do Estado de Mat...    -9.60  ...   \n",
       "3     Beatriz Marimon (Universidade do Estado de Mat...    -9.59  ...   \n",
       "4     Rodolfo Vasquez Martinez (Jardín Botánico de M...    -3.95  ...   \n",
       "...                                                 ...      ...  ...   \n",
       "1640              P.I. Lakyda, O. Morozyuk, I.P. Lakyda    50.31  ...   \n",
       "1641       P.Lakyda, V.Radchenko, A.Bilous, R.Matyashuk    50.34  ...   \n",
       "1642       P.Lakyda, V.Radchenko, A.Bilous, R.Matyashuk    50.34  ...   \n",
       "1643  P.Lakyda, V.Radchenko, A.Bilous, R.Matyashuk, ...    50.34  ...   \n",
       "1644  P.Lakyda, V.Radchenko, A.Bilous, R.Matyashuk, ...    50.34  ...   \n",
       "\n",
       "      AGB_Chave  AGB_ChaveCred_2.5  AGB_ChaveCred_97.5  Wood density    GSV  \\\n",
       "0         370.4              307.1               469.3         0.638    NaN   \n",
       "1         163.6              130.5               217.3         0.612    NaN   \n",
       "2         220.4              188.1               257.8         0.646    NaN   \n",
       "3         179.6              155.0               209.2         0.645    NaN   \n",
       "4         260.8              218.3               315.4         0.598    NaN   \n",
       "...         ...                ...                 ...           ...    ...   \n",
       "1640        NaN                NaN                 NaN           NaN    NaN   \n",
       "1641        NaN                NaN                 NaN           NaN  336.0   \n",
       "1642        NaN                NaN                 NaN           NaN  484.0   \n",
       "1643        NaN                NaN                 NaN           NaN  304.0   \n",
       "1644        NaN                NaN                 NaN           NaN  263.0   \n",
       "\n",
       "         BA  Ndens                                          Reference  \\\n",
       "0       NaN    NaN  Phillips O. L., Aragão L. E. O. C. , Lewis S. ...   \n",
       "1       NaN    NaN  Phillips O. L., Aragão L. E. O. C. , Lewis S. ...   \n",
       "2       NaN    NaN  Phillips O. L., Aragão L. E. O. C. , Lewis S. ...   \n",
       "3       NaN    NaN  Phillips O. L., Aragão L. E. O. C. , Lewis S. ...   \n",
       "4       NaN    NaN  Phillips O. L., Aragão L. E. O. C. , Lewis S. ...   \n",
       "...     ...    ...                                                ...   \n",
       "1640    NaN    NaN                                                NaN   \n",
       "1641  29.76  520.0                                                NaN   \n",
       "1642  38.30  357.0                                                NaN   \n",
       "1643  34.25  487.0                                                NaN   \n",
       "1644  27.86  784.0                                                NaN   \n",
       "\n",
       "      Other_Measurements     Biomass processing protocol  \n",
       "0                    NaN  RepFOS_14Feb17_ForestPlots.pdf  \n",
       "1                    NaN  RepFOS_14Feb17_ForestPlots.pdf  \n",
       "2                    NaN  RepFOS_14Feb17_ForestPlots.pdf  \n",
       "3                    NaN  RepFOS_14Feb17_ForestPlots.pdf  \n",
       "4                    NaN  RepFOS_14Feb17_ForestPlots.pdf  \n",
       "...                  ...                             ...  \n",
       "1640                 NaN                             NaN  \n",
       "1641                 NaN                             NaN  \n",
       "1642                 NaN                             NaN  \n",
       "1643                 NaN                             NaN  \n",
       "1644                 NaN                             NaN  \n",
       "\n",
       "[1645 rows x 39 columns]"
      ]
     },
     "execution_count": 2,
     "metadata": {},
     "output_type": "execute_result"
    }
   ],
   "source": [
    "#import pandas and geopandas library\n",
    "import pandas as pd\n",
    "#import geopandas as gp\n",
    "## We don't need to download the dataset, by putting the direct url, Pandas will read the file directly\n",
    "path = (r'https://forest-observation-system.net/Data/FOS_Plots_v2019.04.10.xlsx')\n",
    "df = pd.read_excel (path)\n",
    "df"
   ]
  },
  {
   "cell_type": "markdown",
   "metadata": {},
   "source": [
    "At first, we can see that is tabular data in there and how is structured.\n"
   ]
  },
  {
   "cell_type": "code",
   "execution_count": 3,
   "metadata": {},
   "outputs": [
    {
     "data": {
      "text/plain": [
       "Index(['Plot_ID', 'Sub-plot_ID', 'CountryName', 'Network', 'Institution',\n",
       "       'Link', 'YearEstablished', 'YearCensus', 'PI team', 'Lat_cnt',\n",
       "       'Lon_cnt', 'Altitude', 'Slope, degree', 'PlotArea', 'Plot_shape',\n",
       "       'Forest_Status', 'MinDBH', 'H_Lorey_local', 'H_Lorey_Chave',\n",
       "       'H_Lorey_Feldpausch', 'H_max_Local', 'H_max_Chave', 'H_max_Feldpausch',\n",
       "       'AGB_local', 'AGB_local_Cred_2.5', 'AGB_local_97.5', 'AGB_Feldpausch',\n",
       "       'AGB_Feldpausch_Cred_2.5', 'AGB_Feldpausch_Cred_97.5', 'AGB_Chave',\n",
       "       'AGB_ChaveCred_2.5', 'AGB_ChaveCred_97.5', 'Wood density', 'GSV', 'BA',\n",
       "       'Ndens', 'Reference', 'Other_Measurements',\n",
       "       'Biomass processing protocol'],\n",
       "      dtype='object')"
      ]
     },
     "execution_count": 3,
     "metadata": {},
     "output_type": "execute_result"
    }
   ],
   "source": [
    "df.keys()"
   ]
  },
  {
   "cell_type": "markdown",
   "metadata": {},
   "source": [
    "By using the ***df.keys*** it displays all the fields within the database"
   ]
  },
  {
   "cell_type": "markdown",
   "metadata": {},
   "source": [
    "By looking at some relevant data within the database, we could explore the distribution of some of the variables in there."
   ]
  },
  {
   "cell_type": "code",
   "execution_count": 4,
   "metadata": {
    "scrolled": false
   },
   "outputs": [
    {
     "name": "stdout",
     "output_type": "stream",
     "text": [
      "0.10.1\n"
     ]
    },
    {
     "data": {
      "image/png": "[encoded data removed]",
      "text/plain": [
       "<Figure size 432x288 with 1 Axes>"
      ]
     },
     "metadata": {
      "needs_background": "light"
     },
     "output_type": "display_data"
    }
   ],
   "source": [
    "import seaborn as sns\n",
    "from matplotlib import pyplot as plt\n",
    "sns.distplot(df['Wood density'],kde = False)\n",
    "mean=df['Wood density'].mean()\n",
    "print(sns.__version__)\n",
    "plt.axvline(mean, color='r', linestyle='--')\n",
    "plt.legend({'Mean':mean})\n",
    "plt.title('Distribution of the wood density values')\n",
    "plt.xlabel('Wood density value')\n",
    "plt.ylabel('Number of observations')  \n",
    "plt.show()"
   ]
  },
  {
   "cell_type": "markdown",
   "metadata": {},
   "source": [
    "We can see the distribution of wood density values and the mean value per observation."
   ]
  },
  {
   "cell_type": "code",
   "execution_count": 5,
   "metadata": {},
   "outputs": [
    {
     "data": {
      "text/plain": [
       "Text(0.5, 1.0, 'AGB Chave 97.5')"
      ]
     },
     "execution_count": 5,
     "metadata": {},
     "output_type": "execute_result"
    },
    {
     "data": {
      "image/png": "[encoded data removed]",
      "text/plain": [
       "<Figure size 1296x720 with 8 Axes>"
      ]
     },
     "metadata": {
      "needs_background": "light"
     },
     "output_type": "display_data"
    }
   ],
   "source": [
    "fig, axs = plt.subplots(2, 4,figsize=(18, 10))\n",
    "sns.distplot(df['AGB_local_97.5'],kde = False,ax=axs[0,0],color='red')\n",
    "sns.distplot(df['AGB_Feldpausch'],kde = False,ax=axs[0,1],color='yellow')\n",
    "sns.distplot(df['AGB_Feldpausch_Cred_2.5'],kde = False,ax=axs[0,2],color='orange')\n",
    "sns.distplot(df['AGB_Feldpausch_Cred_97.5'],kde = False,ax=axs[0,3],color='grey')\n",
    "sns.distplot(df['AGB_Chave'],kde = False,ax=axs[1,0],color='blue')\n",
    "sns.distplot(df['AGB_ChaveCred_2.5'],kde = False,ax=axs[1,1],color='black')\n",
    "sns.distplot(df['AGB_ChaveCred_97.5'],kde = False,ax=axs[1,2],color='brown')\n",
    "axs[0,0].set_title('AGB local 97.5')\n",
    "axs[0,1].set_title('AGB Feldpaush')\n",
    "axs[0,2].set_title('AGB Feldpaush 2.5')\n",
    "axs[0,3].set_title('AGB Feldpaush 97.5')\n",
    "axs[1,0].set_title('AGB Chave')\n",
    "axs[1,1].set_title('AGB Chave 2.5')\n",
    "axs[1,2].set_title('AGB Chave 97.5')"
   ]
  },
  {
   "cell_type": "markdown",
   "metadata": {},
   "source": [
    "Above we can compare different above ground biomass measurements within the database"
   ]
  },
  {
   "cell_type": "markdown",
   "metadata": {},
   "source": [
    "Other cell to take into account is the ***Forest_status*** attribute. By analysing this variable we can understand the kind of forest per observation."
   ]
  },
  {
   "cell_type": "code",
   "execution_count": 6,
   "metadata": {
    "scrolled": true
   },
   "outputs": [
    {
     "data": {
      "text/plain": [
       "Old-growth lowland moist mixed forest                                                 394\n",
       "Mature                                                                                 24\n",
       "Secondary Forest                                                                       20\n",
       "Slope Primary Forest                                                                   20\n",
       "Ridge Primary Forest                                                                   20\n",
       "                                                                                     ... \n",
       "Fir-Hornbeam with aspen                                                                 1\n",
       "Fir-Beech-Hornbeam                                                                      1\n",
       "Старая культура сосны с Б, Д, Е, Рб, Чр в А2 лещиновая папоротниково-разнотравная.      1\n",
       "Fir-Ash-Hornbeam                                                                        1\n",
       "Mixed fresh highland forest, age 88, selective logging                                  1\n",
       "Name: Forest_Status, Length: 89, dtype: int64"
      ]
     },
     "execution_count": 6,
     "metadata": {},
     "output_type": "execute_result"
    }
   ],
   "source": [
    "df['Forest_Status'].value_counts()"
   ]
  },
  {
   "cell_type": "markdown",
   "metadata": {},
   "source": [
    "We have taken the variables **Wood density**, **H_Lorey_local**, **Altitude**, **MinDBH**, **AGB_ChaveCred_97.5**."
   ]
  },
  {
   "cell_type": "code",
   "execution_count": 55,
   "metadata": {},
   "outputs": [
    {
     "name": "stderr",
     "output_type": "stream",
     "text": [
      "/opt/anaconda3/lib/python3.8/site-packages/pandas/core/frame.py:4147: SettingWithCopyWarning: \n",
      "A value is trying to be set on a copy of a slice from a DataFrame\n",
      "\n",
      "See the caveats in the documentation: https://pandas.pydata.org/pandas-docs/stable/user_guide/indexing.html#returning-a-view-versus-a-copy\n",
      "  return super().fillna(\n"
     ]
    },
    {
     "data": {
      "text/html": [
       "<div>\n",
       "<style scoped>\n",
       "    .dataframe tbody tr th:only-of-type {\n",
       "        vertical-align: middle;\n",
       "    }\n",
       "\n",
       "    .dataframe tbody tr th {\n",
       "        vertical-align: top;\n",
       "    }\n",
       "\n",
       "    .dataframe thead th {\n",
       "        text-align: right;\n",
       "    }\n",
       "</style>\n",
       "<table border=\"1\" class=\"dataframe\">\n",
       "  <thead>\n",
       "    <tr style=\"text-align: right;\">\n",
       "      <th></th>\n",
       "      <th>Wood density</th>\n",
       "      <th>H_Lorey_local</th>\n",
       "      <th>Altitude</th>\n",
       "      <th>MinDBH</th>\n",
       "      <th>AGB_ChaveCred_97.5</th>\n",
       "    </tr>\n",
       "  </thead>\n",
       "  <tbody>\n",
       "    <tr>\n",
       "      <th>0</th>\n",
       "      <td>0.638</td>\n",
       "      <td>27.0</td>\n",
       "      <td>NaN</td>\n",
       "      <td>10.0</td>\n",
       "      <td>469.3</td>\n",
       "    </tr>\n",
       "    <tr>\n",
       "      <th>1</th>\n",
       "      <td>0.612</td>\n",
       "      <td>23.8</td>\n",
       "      <td>NaN</td>\n",
       "      <td>10.0</td>\n",
       "      <td>217.3</td>\n",
       "    </tr>\n",
       "    <tr>\n",
       "      <th>2</th>\n",
       "      <td>0.646</td>\n",
       "      <td>23.0</td>\n",
       "      <td>NaN</td>\n",
       "      <td>10.0</td>\n",
       "      <td>257.8</td>\n",
       "    </tr>\n",
       "    <tr>\n",
       "      <th>3</th>\n",
       "      <td>0.645</td>\n",
       "      <td>22.1</td>\n",
       "      <td>NaN</td>\n",
       "      <td>10.0</td>\n",
       "      <td>209.2</td>\n",
       "    </tr>\n",
       "    <tr>\n",
       "      <th>4</th>\n",
       "      <td>0.598</td>\n",
       "      <td>22.1</td>\n",
       "      <td>NaN</td>\n",
       "      <td>10.0</td>\n",
       "      <td>315.4</td>\n",
       "    </tr>\n",
       "    <tr>\n",
       "      <th>...</th>\n",
       "      <td>...</td>\n",
       "      <td>...</td>\n",
       "      <td>...</td>\n",
       "      <td>...</td>\n",
       "      <td>...</td>\n",
       "    </tr>\n",
       "    <tr>\n",
       "      <th>1640</th>\n",
       "      <td>0.589</td>\n",
       "      <td>41.0</td>\n",
       "      <td>1358.0</td>\n",
       "      <td>5.0</td>\n",
       "      <td>269.7</td>\n",
       "    </tr>\n",
       "    <tr>\n",
       "      <th>1641</th>\n",
       "      <td>0.589</td>\n",
       "      <td>23.0</td>\n",
       "      <td>159.0</td>\n",
       "      <td>8.0</td>\n",
       "      <td>269.7</td>\n",
       "    </tr>\n",
       "    <tr>\n",
       "      <th>1642</th>\n",
       "      <td>0.589</td>\n",
       "      <td>22.5</td>\n",
       "      <td>171.0</td>\n",
       "      <td>8.0</td>\n",
       "      <td>269.7</td>\n",
       "    </tr>\n",
       "    <tr>\n",
       "      <th>1643</th>\n",
       "      <td>0.589</td>\n",
       "      <td>18.7</td>\n",
       "      <td>171.0</td>\n",
       "      <td>8.0</td>\n",
       "      <td>269.7</td>\n",
       "    </tr>\n",
       "    <tr>\n",
       "      <th>1644</th>\n",
       "      <td>0.589</td>\n",
       "      <td>20.2</td>\n",
       "      <td>171.0</td>\n",
       "      <td>8.0</td>\n",
       "      <td>269.7</td>\n",
       "    </tr>\n",
       "  </tbody>\n",
       "</table>\n",
       "<p>1645 rows × 5 columns</p>\n",
       "</div>"
      ],
      "text/plain": [
       "      Wood density  H_Lorey_local  Altitude  MinDBH  AGB_ChaveCred_97.5\n",
       "0            0.638           27.0       NaN    10.0               469.3\n",
       "1            0.612           23.8       NaN    10.0               217.3\n",
       "2            0.646           23.0       NaN    10.0               257.8\n",
       "3            0.645           22.1       NaN    10.0               209.2\n",
       "4            0.598           22.1       NaN    10.0               315.4\n",
       "...            ...            ...       ...     ...                 ...\n",
       "1640         0.589           41.0    1358.0     5.0               269.7\n",
       "1641         0.589           23.0     159.0     8.0               269.7\n",
       "1642         0.589           22.5     171.0     8.0               269.7\n",
       "1643         0.589           18.7     171.0     8.0               269.7\n",
       "1644         0.589           20.2     171.0     8.0               269.7\n",
       "\n",
       "[1645 rows x 5 columns]"
      ]
     },
     "execution_count": 55,
     "metadata": {},
     "output_type": "execute_result"
    }
   ],
   "source": [
    "\n",
    "df_sub = df[['Wood density','H_Lorey_local', 'Altitude', 'MinDBH', 'AGB_ChaveCred_97.5']]\n",
    "# Eliminating NaN or missing input numbers\n",
    "df_sub.fillna(method ='ffill', inplace = True)\n",
    "df_sub\n"
   ]
  },
  {
   "cell_type": "markdown",
   "metadata": {},
   "source": [
    "## First algorithm : LinearRegression"
   ]
  },
  {
   "cell_type": "markdown",
   "metadata": {},
   "source": [
    "Reference: [geeksforgeeks.org](https://www.geeksforgeeks.org/python-linear-regression-using-sklearn/)"
   ]
  },
  {
   "cell_type": "markdown",
   "metadata": {},
   "source": [
    "we are going to reshape all variables as it is indicated in Sklearn tutorials."
   ]
  },
  {
   "cell_type": "code",
   "execution_count": 143,
   "metadata": {},
   "outputs": [],
   "source": [
    "X = np.array(df_sub['Wood density']).reshape(-1, 1)\n",
    "y = np.array(df_sub['AGB_ChaveCred_97.5']).reshape(-1, 1)\n",
    "z = np.array(df_sub['H_Lorey_local']).reshape(-1, 1)\n",
    "t = np.array(df_sub['MinDBH']).reshape(-1, 1)\n",
    "d = np.array(df_sub['Altitude']).reshape(-1, 1)"
   ]
  },
  {
   "cell_type": "markdown",
   "metadata": {},
   "source": [
    "Looking into dataset, looks it could be a clear case for linear regression example combining several attributes. Multi-layer perceptron is highly sensitive to feature scaling. In sklearn it clearly indicates to scale the data [0,1] or [-1,+1], or standarize it to have mean 0 and variance 1. "
   ]
  },
  {
   "cell_type": "code",
   "execution_count": 144,
   "metadata": {
    "scrolled": true
   },
   "outputs": [
    {
     "name": "stdout",
     "output_type": "stream",
     "text": [
      "0.140378937422022\n"
     ]
    },
    {
     "name": "stderr",
     "output_type": "stream",
     "text": [
      "<ipython-input-144-0ced39c7c186>:9: SettingWithCopyWarning: \n",
      "A value is trying to be set on a copy of a slice from a DataFrame\n",
      "\n",
      "See the caveats in the documentation: https://pandas.pydata.org/pandas-docs/stable/user_guide/indexing.html#returning-a-view-versus-a-copy\n",
      "  df_sub.dropna(inplace = True)\n"
     ]
    }
   ],
   "source": [
    "import numpy as np\n",
    "import pandas as pd\n",
    "import seaborn as sns\n",
    "import matplotlib.pyplot as plt\n",
    "from sklearn import preprocessing, svm\n",
    "from sklearn.model_selection import train_test_split\n",
    "from sklearn.linear_model import LinearRegression\n",
    "\n",
    "df_sub.dropna(inplace = True)\n",
    "  \n",
    "# Dropping any rows with Nan values\n",
    "X_train, X_test, y_train, y_test = train_test_split(X, y, test_size = 0.20)\n",
    "  \n",
    "# Splitting the data into training and testing data\n",
    "regr = LinearRegression()\n",
    "  \n",
    "regr.fit(X_train, y_train)\n",
    "print(regr.score(X_test, y_test))"
   ]
  },
  {
   "cell_type": "markdown",
   "metadata": {},
   "source": [
    "By exploring the results, we will see how they look like with the regression line."
   ]
  },
  {
   "cell_type": "code",
   "execution_count": 145,
   "metadata": {
    "scrolled": false
   },
   "outputs": [
    {
     "data": {
      "text/plain": [
       "Text(0.5, 1.0, 'Data scatered of predicted values')"
      ]
     },
     "execution_count": 145,
     "metadata": {},
     "output_type": "execute_result"
    },
    {
     "data": {
      "image/png": "[encoded data removed]",
      "text/plain": [
       "<Figure size 432x288 with 1 Axes>"
      ]
     },
     "metadata": {
      "needs_background": "light"
     },
     "output_type": "display_data"
    }
   ],
   "source": [
    "y_pred=regr.predict(X_test)\n",
    "plt.scatter(X_test,y_test, color='b')\n",
    "plt.plot(X_test, y_pred, color = 'k')\n",
    "plt.title(\"Data scatered of predicted values\")"
   ]
  },
  {
   "cell_type": "markdown",
   "metadata": {},
   "source": [
    "we can see now clearer that the low accuracy of the prediction is corresponded with the plot."
   ]
  },
  {
   "cell_type": "markdown",
   "metadata": {},
   "source": [
    "We will work with smaller dataset to see if results improve"
   ]
  },
  {
   "cell_type": "code",
   "execution_count": 146,
   "metadata": {
    "scrolled": true
   },
   "outputs": [
    {
     "data": {
      "text/plain": [
       "<seaborn.axisgrid.FacetGrid at 0x7ff5c24c57f0>"
      ]
     },
     "execution_count": 146,
     "metadata": {},
     "output_type": "execute_result"
    },
    {
     "data": {
      "image/png": "[encoded data removed]",
      "text/plain": [
       "<Figure size 360x360 with 1 Axes>"
      ]
     },
     "metadata": {
      "needs_background": "light"
     },
     "output_type": "display_data"
    }
   ],
   "source": [
    "df_sub100 = df_sub[:][100:200]\n",
    "# Selecting the 100st 200 rows of the data\n",
    "sns.lmplot(x =\"Wood density\", y =\"AGB_ChaveCred_97.5\", data = df_sub100,\n",
    "                               order = 2, ci = None)"
   ]
  },
  {
   "cell_type": "code",
   "execution_count": 147,
   "metadata": {},
   "outputs": [
    {
     "name": "stdout",
     "output_type": "stream",
     "text": [
      "0.2781060903394079\n"
     ]
    }
   ],
   "source": [
    "\n",
    "df_sub100.fillna(method ='ffill', inplace = True)\n",
    "  \n",
    "X = np.array(df_sub100['Wood density']).reshape(-1, 1)\n",
    "y = np.array(df_sub100['AGB_ChaveCred_97.5']).reshape(-1, 1)\n",
    "  \n",
    "df_sub100.dropna(inplace = True)\n",
    "X_train, X_test, y_train, y_test = train_test_split(X, y, test_size = 0.20)\n",
    "  \n",
    "regr = LinearRegression()\n",
    "regr.fit(X_train, y_train)\n",
    "print(regr.score(X_test, y_test))"
   ]
  },
  {
   "cell_type": "markdown",
   "metadata": {},
   "source": [
    "Even though it improves a bit the precision, it looks it's not enough to get. Even with that we will take a look at the results."
   ]
  },
  {
   "cell_type": "code",
   "execution_count": 148,
   "metadata": {},
   "outputs": [
    {
     "data": {
      "text/plain": [
       "Text(0.5, 1.0, 'Data scatered of predicted values')"
      ]
     },
     "execution_count": 148,
     "metadata": {},
     "output_type": "execute_result"
    },
    {
     "data": {
      "image/png": "[encoded data removed]",
      "text/plain": [
       "<Figure size 432x288 with 1 Axes>"
      ]
     },
     "metadata": {
      "needs_background": "light"
     },
     "output_type": "display_data"
    }
   ],
   "source": [
    "y_pred=regr.predict(X_test)\n",
    "plt.scatter(X_test,y_test, color='b')\n",
    "plt.plot(X_test, y_pred, color = 'k')\n",
    "plt.title(\"Data scatered of predicted values\")"
   ]
  },
  {
   "cell_type": "markdown",
   "metadata": {},
   "source": [
    "### Getting more variables involved"
   ]
  },
  {
   "cell_type": "markdown",
   "metadata": {},
   "source": [
    "We have created a new dataset just with the variables we want as input"
   ]
  },
  {
   "cell_type": "code",
   "execution_count": 154,
   "metadata": {},
   "outputs": [
    {
     "data": {
      "text/html": [
       "<div>\n",
       "<style scoped>\n",
       "    .dataframe tbody tr th:only-of-type {\n",
       "        vertical-align: middle;\n",
       "    }\n",
       "\n",
       "    .dataframe tbody tr th {\n",
       "        vertical-align: top;\n",
       "    }\n",
       "\n",
       "    .dataframe thead th {\n",
       "        text-align: right;\n",
       "    }\n",
       "</style>\n",
       "<table border=\"1\" class=\"dataframe\">\n",
       "  <thead>\n",
       "    <tr style=\"text-align: right;\">\n",
       "      <th></th>\n",
       "      <th>AGB</th>\n",
       "      <th>H_Lorey_local</th>\n",
       "      <th>MinDBH</th>\n",
       "      <th>Altitude</th>\n",
       "    </tr>\n",
       "  </thead>\n",
       "  <tbody>\n",
       "    <tr>\n",
       "      <th>228</th>\n",
       "      <td>337.6</td>\n",
       "      <td>31.725827</td>\n",
       "      <td>10.0</td>\n",
       "      <td>159.0</td>\n",
       "    </tr>\n",
       "    <tr>\n",
       "      <th>229</th>\n",
       "      <td>337.6</td>\n",
       "      <td>31.725827</td>\n",
       "      <td>10.0</td>\n",
       "      <td>159.0</td>\n",
       "    </tr>\n",
       "    <tr>\n",
       "      <th>230</th>\n",
       "      <td>337.6</td>\n",
       "      <td>31.725827</td>\n",
       "      <td>10.0</td>\n",
       "      <td>159.0</td>\n",
       "    </tr>\n",
       "    <tr>\n",
       "      <th>231</th>\n",
       "      <td>337.6</td>\n",
       "      <td>27.887300</td>\n",
       "      <td>10.0</td>\n",
       "      <td>433.0</td>\n",
       "    </tr>\n",
       "    <tr>\n",
       "      <th>232</th>\n",
       "      <td>337.6</td>\n",
       "      <td>27.887300</td>\n",
       "      <td>10.0</td>\n",
       "      <td>433.0</td>\n",
       "    </tr>\n",
       "    <tr>\n",
       "      <th>...</th>\n",
       "      <td>...</td>\n",
       "      <td>...</td>\n",
       "      <td>...</td>\n",
       "      <td>...</td>\n",
       "    </tr>\n",
       "    <tr>\n",
       "      <th>1640</th>\n",
       "      <td>269.7</td>\n",
       "      <td>41.000000</td>\n",
       "      <td>5.0</td>\n",
       "      <td>1358.0</td>\n",
       "    </tr>\n",
       "    <tr>\n",
       "      <th>1641</th>\n",
       "      <td>269.7</td>\n",
       "      <td>23.000000</td>\n",
       "      <td>8.0</td>\n",
       "      <td>159.0</td>\n",
       "    </tr>\n",
       "    <tr>\n",
       "      <th>1642</th>\n",
       "      <td>269.7</td>\n",
       "      <td>22.500000</td>\n",
       "      <td>8.0</td>\n",
       "      <td>171.0</td>\n",
       "    </tr>\n",
       "    <tr>\n",
       "      <th>1643</th>\n",
       "      <td>269.7</td>\n",
       "      <td>18.700000</td>\n",
       "      <td>8.0</td>\n",
       "      <td>171.0</td>\n",
       "    </tr>\n",
       "    <tr>\n",
       "      <th>1644</th>\n",
       "      <td>269.7</td>\n",
       "      <td>20.200000</td>\n",
       "      <td>8.0</td>\n",
       "      <td>171.0</td>\n",
       "    </tr>\n",
       "  </tbody>\n",
       "</table>\n",
       "<p>1417 rows × 4 columns</p>\n",
       "</div>"
      ],
      "text/plain": [
       "        AGB  H_Lorey_local  MinDBH  Altitude\n",
       "228   337.6      31.725827    10.0     159.0\n",
       "229   337.6      31.725827    10.0     159.0\n",
       "230   337.6      31.725827    10.0     159.0\n",
       "231   337.6      27.887300    10.0     433.0\n",
       "232   337.6      27.887300    10.0     433.0\n",
       "...     ...            ...     ...       ...\n",
       "1640  269.7      41.000000     5.0    1358.0\n",
       "1641  269.7      23.000000     8.0     159.0\n",
       "1642  269.7      22.500000     8.0     171.0\n",
       "1643  269.7      18.700000     8.0     171.0\n",
       "1644  269.7      20.200000     8.0     171.0\n",
       "\n",
       "[1417 rows x 4 columns]"
      ]
     },
     "execution_count": 154,
     "metadata": {},
     "output_type": "execute_result"
    }
   ],
   "source": [
    "new = [df_sub['AGB_ChaveCred_97.5'], df_sub['H_Lorey_local'],df_sub['MinDBH'], df_sub['Altitude']]\n",
    "headers = [\"AGB\",\"H_Lorey_local\",\"MinDBH\",\"Altitude\"]\n",
    "outputs = df_sub['Wood density']\n",
    "inputs = pd.concat(new, axis=1, keys=headers)\n",
    "inputs"
   ]
  },
  {
   "cell_type": "markdown",
   "metadata": {},
   "source": [
    "We prepare the model and we take all inputs but the last one"
   ]
  },
  {
   "cell_type": "code",
   "execution_count": 157,
   "metadata": {
    "scrolled": true
   },
   "outputs": [
    {
     "name": "stdout",
     "output_type": "stream",
     "text": [
      "Intercept: \n",
      " 0.48111326673853655\n",
      "Coefficients: \n",
      " [ 2.36248970e-04 -6.92889833e-04  6.16158768e-03  5.97375191e-05]\n"
     ]
    }
   ],
   "source": [
    "from sklearn import linear_model\n",
    "regr = linear_model.LinearRegression()\n",
    "\n",
    "regr.fit(inputs[:-1], outputs[:-1])\n",
    "\n",
    "print('Intercept: \\n', regr.intercept_)\n",
    "print('Coefficients: \\n', regr.coef_)"
   ]
  },
  {
   "cell_type": "markdown",
   "metadata": {},
   "source": [
    "Now we run the prediction for the last value of the inputs."
   ]
  },
  {
   "cell_type": "code",
   "execution_count": 158,
   "metadata": {},
   "outputs": [
    {
     "data": {
      "text/plain": [
       "array([0.59034106])"
      ]
     },
     "execution_count": 158,
     "metadata": {},
     "output_type": "execute_result"
    }
   ],
   "source": [
    "regr.predict(inputs[-1:])"
   ]
  },
  {
   "cell_type": "markdown",
   "metadata": {},
   "source": [
    "If we check the value in the dataset, "
   ]
  },
  {
   "cell_type": "code",
   "execution_count": 161,
   "metadata": {},
   "outputs": [
    {
     "data": {
      "text/plain": [
       "1644    0.589\n",
       "Name: Wood density, dtype: float64"
      ]
     },
     "execution_count": 161,
     "metadata": {},
     "output_type": "execute_result"
    }
   ],
   "source": [
    "outputs[-1:]"
   ]
  },
  {
   "cell_type": "markdown",
   "metadata": {},
   "source": [
    "Looks like for this one, at least the predicting model get really close to the stored value."
   ]
  },
  {
   "cell_type": "markdown",
   "metadata": {},
   "source": [
    "## Second algorithm: Support Vector Machine (SVM)"
   ]
  },
  {
   "cell_type": "code",
   "execution_count": 197,
   "metadata": {},
   "outputs": [
    {
     "name": "stderr",
     "output_type": "stream",
     "text": [
      "/opt/anaconda3/lib/python3.8/site-packages/sklearn/preprocessing/_label.py:115: DataConversionWarning: A column-vector y was passed when a 1d array was expected. Please change the shape of y to (n_samples, ), for example using ravel().\n",
      "  y = column_or_1d(y, warn=True)\n"
     ]
    }
   ],
   "source": [
    "from sklearn.model_selection import train_test_split\n",
    "from sklearn import svm\n",
    "from sklearn import preprocessing\n",
    "from sklearn import utils\n",
    "\n",
    "lab_enc = preprocessing.LabelEncoder()\n",
    "\n",
    "clf = svm.SVC(gamma = 0.001, C=100.)\n",
    "inputs.values\n",
    "outputs = [df_sub[\"Wood density\"]]\n",
    "\n",
    "headers = [\"Wood density\"]\n",
    "outputs_v2 = pd.concat(outputs, axis=1, keys=headers)\n",
    "outputs_v2.values\n",
    "label_encoder = preprocessing.LabelEncoder()\n",
    "Y = label_encoder.fit_transform(outputs_v2)\n",
    "X = preprocessing.StandardScaler().fit_transform(inputs)"
   ]
  },
  {
   "cell_type": "code",
   "execution_count": 198,
   "metadata": {},
   "outputs": [],
   "source": [
    "X_train , X_test, y_train, y_test = train_test_split(X,Y)"
   ]
  },
  {
   "cell_type": "code",
   "execution_count": 199,
   "metadata": {},
   "outputs": [],
   "source": [
    "clf = svm.SVC(C=1.0, kernel='rbf').fit(X_train[:-10],y_train[:-10])"
   ]
  },
  {
   "cell_type": "code",
   "execution_count": 200,
   "metadata": {},
   "outputs": [
    {
     "data": {
      "text/plain": [
       "array([208, 208, 208, 208, 208, 792, 114, 114, 114, 114])"
      ]
     },
     "execution_count": 200,
     "metadata": {},
     "output_type": "execute_result"
    }
   ],
   "source": [
    "clf.predict(X[-10:])"
   ]
  },
  {
   "cell_type": "code",
   "execution_count": 201,
   "metadata": {},
   "outputs": [
    {
     "data": {
      "text/plain": [
       "array([172,  89, 100, 201, 161, 161, 161, 161, 161, 161])"
      ]
     },
     "execution_count": 201,
     "metadata": {},
     "output_type": "execute_result"
    }
   ],
   "source": [
    "Y[-10:]"
   ]
  },
  {
   "cell_type": "code",
   "execution_count": 202,
   "metadata": {},
   "outputs": [
    {
     "name": "stdout",
     "output_type": "stream",
     "text": [
      "0.1267605633802817\n"
     ]
    }
   ],
   "source": [
    "print(clf.score(X_test, y_test))"
   ]
  },
  {
   "cell_type": "markdown",
   "metadata": {},
   "source": [
    "## Third algorithm: Neural Network"
   ]
  },
  {
   "cell_type": "code",
   "execution_count": 203,
   "metadata": {},
   "outputs": [
    {
     "name": "stderr",
     "output_type": "stream",
     "text": [
      "/opt/anaconda3/lib/python3.8/site-packages/sklearn/neural_network/_multilayer_perceptron.py:549: ConvergenceWarning: lbfgs failed to converge (status=1):\n",
      "STOP: TOTAL NO. of ITERATIONS REACHED LIMIT.\n",
      "\n",
      "Increase the number of iterations (max_iter) or scale the data as shown in:\n",
      "    https://scikit-learn.org/stable/modules/preprocessing.html\n",
      "  self.n_iter_ = _check_optimize_result(\"lbfgs\", opt_res, self.max_iter)\n"
     ]
    },
    {
     "data": {
      "text/plain": [
       "MLPClassifier(alpha=1e-05, hidden_layer_sizes=(5, 2), random_state=1,\n",
       "              solver='lbfgs')"
      ]
     },
     "execution_count": 203,
     "metadata": {},
     "output_type": "execute_result"
    }
   ],
   "source": [
    "from sklearn.neural_network import MLPClassifier\n",
    "clf = MLPClassifier(solver='lbfgs', alpha=1e-5, hidden_layer_sizes=(5, 2), random_state=1)\n",
    "clf.fit(X_train[:-10],y_train[:-10])"
   ]
  },
  {
   "cell_type": "code",
   "execution_count": 204,
   "metadata": {},
   "outputs": [
    {
     "data": {
      "text/plain": [
       "array([247, 247, 247, 247, 247, 430, 593, 593, 593, 593])"
      ]
     },
     "execution_count": 204,
     "metadata": {},
     "output_type": "execute_result"
    }
   ],
   "source": [
    "clf.predict(X[-10:])"
   ]
  },
  {
   "cell_type": "code",
   "execution_count": 205,
   "metadata": {},
   "outputs": [
    {
     "data": {
      "text/plain": [
       "array([172,  89, 100, 201, 161, 161, 161, 161, 161, 161])"
      ]
     },
     "execution_count": 205,
     "metadata": {},
     "output_type": "execute_result"
    }
   ],
   "source": [
    "Y[-10:]"
   ]
  },
  {
   "cell_type": "code",
   "execution_count": 206,
   "metadata": {},
   "outputs": [
    {
     "name": "stdout",
     "output_type": "stream",
     "text": [
      "0.10422535211267606\n"
     ]
    }
   ],
   "source": [
    "print(clf.score(X_test, y_test))"
   ]
  },
  {
   "cell_type": "markdown",
   "metadata": {},
   "source": [
    "## References"
   ]
  },
  {
   "cell_type": "markdown",
   "metadata": {},
   "source": [
    "- Lichman, M. (2013). UCI Machine Learning Repository [https://archive.ics.uci.edu/ml]. Irvine, CA: University of California, School of Information and Computer Science.\n",
    "\n",
    "- Schepaschenko, D., Chave, J., Phillips, O. L., Lewis, S. L., Davies, S. J., Réjou-Méchain, M., ... & Labrière, N. (2019). The Forest Observation System, building a global reference dataset for remote sensing of forest biomass. Scientific data, 6(1), 1-11\n"
   ]
  },
  {
   "cell_type": "code",
   "execution_count": null,
   "metadata": {},
   "outputs": [],
   "source": []
  }
 ],
 "metadata": {
  "kernelspec": {
   "display_name": "Python 3",
   "language": "python",
   "name": "python3"
  },
  "language_info": {
   "codemirror_mode": {
    "name": "ipython",
    "version": 3
   },
   "file_extension": ".py",
   "mimetype": "text/x-python",
   "name": "python",
   "nbconvert_exporter": "python",
   "pygments_lexer": "ipython3",
   "version": "3.8.3"
  }
 },
 "nbformat": 4,
 "nbformat_minor": 4
}
